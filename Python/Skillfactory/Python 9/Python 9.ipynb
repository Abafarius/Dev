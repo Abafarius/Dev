{
 "cells": [
  {
   "cell_type": "markdown",
   "id": "0c71714e",
   "metadata": {},
   "source": [
    "# 9.2 О массивах NumPy "
   ]
  },
  {
   "cell_type": "code",
   "execution_count": 2,
   "id": "ab3963be",
   "metadata": {},
   "outputs": [],
   "source": [
    "import numpy as np"
   ]
  },
  {
   "cell_type": "code",
   "execution_count": null,
   "id": "cf5436de",
   "metadata": {},
   "outputs": [],
   "source": [
    "\n",
    "# Задание 1\n",
    "Какой индекс имеет верхний левый элемент любого двумерного массива?\n",
    "answer_1 = [0,0]"
   ]
  },
  {
   "cell_type": "code",
   "execution_count": 3,
   "id": "e7165e0f",
   "metadata": {},
   "outputs": [
    {
     "data": {
      "text/plain": [
       "array([[ 8, 13, 18,  4],\n",
       "       [25,  3, 18, 28],\n",
       "       [14, 15, 18, 24],\n",
       "       [ 1,  2,  3,  4]])"
      ]
     },
     "execution_count": 3,
     "metadata": {},
     "output_type": "execute_result"
    }
   ],
   "source": [
    "# Задание 2\n",
    "np.array([[8,13,18,4], [25,3,18,28], [14,15,18,24], [1,2,3,4]])"
   ]
  },
  {
   "cell_type": "code",
   "execution_count": null,
   "id": "2bb513b8",
   "metadata": {},
   "outputs": [],
   "source": [
    "answer_2 = [8, 3, 18, 4]"
   ]
  },
  {
   "cell_type": "code",
   "execution_count": 4,
   "id": "9468a27b",
   "metadata": {},
   "outputs": [
    {
     "data": {
      "text/plain": [
       "array([[  1. ,  57. ,  71. , 127. , 141. , 197. , 211. , 267. , 281. ],\n",
       "       [  0.5,  28.5,  35.5,  63.5,  70.5,  98.5, 105.5, 133.5, 140.5],\n",
       "       [-99. , -43. , -29. ,  27. ,  41. ,  97. , 111. , 167. , 181. ]])"
      ]
     },
     "execution_count": 4,
     "metadata": {},
     "output_type": "execute_result"
    }
   ],
   "source": [
    "# Task 3\n",
    "my_secret = [x for x in range(1, 301, 7) if x%10 == 7 or x%10 == 1]\n",
    "np.array([my_secret, [x/2 for x in my_secret], [x-100 for x in my_secret]])"
   ]
  },
  {
   "cell_type": "code",
   "execution_count": 5,
   "id": "ab962789",
   "metadata": {},
   "outputs": [],
   "source": [
    "answer_3 = [281.0, 140.5, 181.0]"
   ]
  },
  {
   "cell_type": "code",
   "execution_count": null,
   "id": "f004d9c9",
   "metadata": {},
   "outputs": [],
   "source": [
    "# Задание 4\n",
    "answer_4 = np.eye(5)"
   ]
  }
 ],
 "metadata": {
  "kernelspec": {
   "display_name": "Python 3",
   "language": "python",
   "name": "python3"
  },
  "language_info": {
   "codemirror_mode": {
    "name": "ipython",
    "version": 3
   },
   "file_extension": ".py",
   "mimetype": "text/x-python",
   "name": "python",
   "nbconvert_exporter": "python",
   "pygments_lexer": "ipython3",
   "version": "3.8.8"
  }
 },
 "nbformat": 4,
 "nbformat_minor": 5
}
