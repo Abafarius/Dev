{
 "cells": [
  {
   "cell_type": "code",
   "execution_count": 3,
   "id": "d3aa51a1",
   "metadata": {},
   "outputs": [],
   "source": [
    "import json\n",
    "from pprint import pprint"
   ]
  },
  {
   "cell_type": "code",
   "execution_count": 4,
   "id": "2e281574",
   "metadata": {},
   "outputs": [],
   "source": [
    "with open('recipes.json') as f:\n",
    "    recipes = json.load(f)"
   ]
  },
  {
   "cell_type": "code",
   "execution_count": null,
   "id": "dc273028",
   "metadata": {},
   "outputs": [],
   "source": []
  },
  {
   "cell_type": "code",
   "execution_count": null,
   "id": "fcc93aba",
   "metadata": {},
   "outputs": [],
   "source": []
  },
  {
   "cell_type": "markdown",
   "id": "d2d6174f",
   "metadata": {},
   "source": [
    "# 13.1 Ответ 1: 2\n",
    "#         Ответ 2: 30 000\n",
    "#         Ответ 3: 3\n"
   ]
  },
  {
   "cell_type": "code",
   "execution_count": 4,
   "id": "e64fc56f",
   "metadata": {},
   "outputs": [
    {
     "data": {
      "text/plain": [
       "10259"
      ]
     },
     "execution_count": 4,
     "metadata": {},
     "output_type": "execute_result"
    }
   ],
   "source": [
    "recipes[0]['id']"
   ]
  },
  {
   "cell_type": "code",
   "execution_count": 5,
   "id": "14eaabf2",
   "metadata": {},
   "outputs": [
    {
     "name": "stdout",
     "output_type": "stream",
     "text": [
      "thai\n"
     ]
    }
   ],
   "source": [
    "for recipe in recipes:\n",
    "    if recipe['id'] ==13121:\n",
    "        print(recipe['cuisine'])\n",
    "        break"
   ]
  },
  {
   "cell_type": "code",
   "execution_count": 33,
   "id": "9660f220",
   "metadata": {},
   "outputs": [
    {
     "data": {
      "text/plain": [
       "500"
      ]
     },
     "execution_count": 33,
     "metadata": {},
     "output_type": "execute_result"
    }
   ],
   "source": [
    "len(recipes)"
   ]
  },
  {
   "cell_type": "code",
   "execution_count": 26,
   "id": "4eac98bd",
   "metadata": {},
   "outputs": [
    {
     "data": {
      "text/plain": [
       "24410"
      ]
     },
     "execution_count": 26,
     "metadata": {},
     "output_type": "execute_result"
    }
   ],
   "source": [
    "recipes[499]['id']"
   ]
  },
  {
   "cell_type": "code",
   "execution_count": 34,
   "id": "d0d6ad0f",
   "metadata": {},
   "outputs": [
    {
     "name": "stdout",
     "output_type": "stream",
     "text": [
      "british\n"
     ]
    }
   ],
   "source": [
    "for recipe in recipes:\n",
    "    if recipe['id'] ==24410:\n",
    "        print(recipe['cuisine'])\n",
    "        break"
   ]
  },
  {
   "cell_type": "code",
   "execution_count": 36,
   "id": "7ea544d2",
   "metadata": {},
   "outputs": [
    {
     "data": {
      "text/plain": [
       "17"
      ]
     },
     "execution_count": 36,
     "metadata": {},
     "output_type": "execute_result"
    }
   ],
   "source": [
    "len(recipes[499]['ingredients'])"
   ]
  },
  {
   "cell_type": "code",
   "execution_count": 51,
   "id": "c255f153",
   "metadata": {},
   "outputs": [
    {
     "name": "stdout",
     "output_type": "stream",
     "text": [
      "['tomato sauce', 'shredded carrots', 'spinach', 'part-skim mozzarella cheese', 'italian seasoning', 'english muffins, split and toasted', 'chopped onion', 'vegetable oil cooking spray', 'chopped green bell pepper']\n"
     ]
    }
   ],
   "source": [
    "for recipe in recipes:\n",
    "    if recipe['id'] ==17636:\n",
    "        print(recipe['ingredients'])\n",
    "        break"
   ]
  },
  {
   "cell_type": "code",
   "execution_count": 53,
   "id": "e183af03",
   "metadata": {},
   "outputs": [
    {
     "name": "stdout",
     "output_type": "stream",
     "text": [
      "['eggs', 'russet potatoes', 'mexican chorizo', 'black beans', 'salsa', 'canola oil', 'colby cheese', 'black olives', 'sour cream', 'avocado', 'half & half', 'goat cheese']\n"
     ]
    }
   ],
   "source": [
    "for recipe in recipes:\n",
    "    if recipe['id'] ==23629:\n",
    "        print(recipe['ingredients'])\n",
    "        break\n"
   ]
  },
  {
   "cell_type": "markdown",
   "id": "d6b7c034",
   "metadata": {},
   "source": [
    "# 13.2 Ответ 1: british\n",
    "#         Ответ 2: 17\n",
    "#         Ответ 3: 1, 2, 4, 5\n",
    "#         Ответ 4: 14\n",
    "#         Ответ 5: 4, 5, 6"
   ]
  },
  {
   "cell_type": "code",
   "execution_count": 54,
   "id": "52a30b5f",
   "metadata": {},
   "outputs": [
    {
     "data": {
      "text/plain": [
       "20"
      ]
     },
     "execution_count": 54,
     "metadata": {},
     "output_type": "execute_result"
    }
   ],
   "source": [
    "cuisines = []\n",
    "for recipe in recipes:\n",
    "    if not(recipe['cuisine'] in cuisines):\n",
    "        cuisines.append(recipe['cuisine'])\n",
    "len(cuisines)"
   ]
  },
  {
   "cell_type": "code",
   "execution_count": 55,
   "id": "8664c59d",
   "metadata": {},
   "outputs": [
    {
     "data": {
      "text/plain": [
       "20"
      ]
     },
     "execution_count": 55,
     "metadata": {},
     "output_type": "execute_result"
    }
   ],
   "source": [
    "cuisines = set()\n",
    "for recipe in recipes:\n",
    "    cuisines.add(recipe['cuisine'])\n",
    "len(cuisines)"
   ]
  },
  {
   "cell_type": "code",
   "execution_count": 66,
   "id": "8a0f5112",
   "metadata": {},
   "outputs": [
    {
     "data": {
      "text/plain": [
       "20"
      ]
     },
     "execution_count": 66,
     "metadata": {},
     "output_type": "execute_result"
    }
   ],
   "source": [
    "ingredients = []\n",
    "for recipe in recipes:\n",
    "    if not(recipe['cuisine'] in cuisines):\n",
    "        cuisines.append(recipe['cuisine'])\n",
    "len(cuisines)"
   ]
  },
  {
   "cell_type": "code",
   "execution_count": null,
   "id": "56f571ad",
   "metadata": {},
   "outputs": [],
   "source": []
  },
  {
   "cell_type": "code",
   "execution_count": null,
   "id": "48a5afc6",
   "metadata": {},
   "outputs": [],
   "source": []
  },
  {
   "cell_type": "code",
   "execution_count": 5,
   "id": "4250743b",
   "metadata": {},
   "outputs": [],
   "source": [
    "import pandas as pd\n",
    "df = pd.DataFrame(recipes)"
   ]
  },
  {
   "cell_type": "code",
   "execution_count": 68,
   "id": "41d96cbe",
   "metadata": {},
   "outputs": [
    {
     "data": {
      "text/html": [
       "<div>\n",
       "<style scoped>\n",
       "    .dataframe tbody tr th:only-of-type {\n",
       "        vertical-align: middle;\n",
       "    }\n",
       "\n",
       "    .dataframe tbody tr th {\n",
       "        vertical-align: top;\n",
       "    }\n",
       "\n",
       "    .dataframe thead th {\n",
       "        text-align: right;\n",
       "    }\n",
       "</style>\n",
       "<table border=\"1\" class=\"dataframe\">\n",
       "  <thead>\n",
       "    <tr style=\"text-align: right;\">\n",
       "      <th></th>\n",
       "      <th>id</th>\n",
       "      <th>cuisine</th>\n",
       "      <th>ingredients</th>\n",
       "    </tr>\n",
       "  </thead>\n",
       "  <tbody>\n",
       "    <tr>\n",
       "      <th>0</th>\n",
       "      <td>10259</td>\n",
       "      <td>greek</td>\n",
       "      <td>[romaine lettuce, black olives, grape tomatoes...</td>\n",
       "    </tr>\n",
       "    <tr>\n",
       "      <th>1</th>\n",
       "      <td>25693</td>\n",
       "      <td>southern_us</td>\n",
       "      <td>[plain flour, ground pepper, salt, tomatoes, g...</td>\n",
       "    </tr>\n",
       "    <tr>\n",
       "      <th>2</th>\n",
       "      <td>20130</td>\n",
       "      <td>filipino</td>\n",
       "      <td>[eggs, pepper, salt, mayonaise, cooking oil, g...</td>\n",
       "    </tr>\n",
       "    <tr>\n",
       "      <th>3</th>\n",
       "      <td>22213</td>\n",
       "      <td>indian</td>\n",
       "      <td>[water, vegetable oil, wheat, salt]</td>\n",
       "    </tr>\n",
       "    <tr>\n",
       "      <th>4</th>\n",
       "      <td>13162</td>\n",
       "      <td>indian</td>\n",
       "      <td>[black pepper, shallots, cornflour, cayenne pe...</td>\n",
       "    </tr>\n",
       "  </tbody>\n",
       "</table>\n",
       "</div>"
      ],
      "text/plain": [
       "      id      cuisine                                        ingredients\n",
       "0  10259        greek  [romaine lettuce, black olives, grape tomatoes...\n",
       "1  25693  southern_us  [plain flour, ground pepper, salt, tomatoes, g...\n",
       "2  20130     filipino  [eggs, pepper, salt, mayonaise, cooking oil, g...\n",
       "3  22213       indian                [water, vegetable oil, wheat, salt]\n",
       "4  13162       indian  [black pepper, shallots, cornflour, cayenne pe..."
      ]
     },
     "execution_count": 68,
     "metadata": {},
     "output_type": "execute_result"
    }
   ],
   "source": [
    "df.head()"
   ]
  },
  {
   "cell_type": "code",
   "execution_count": 69,
   "id": "fd7bb752",
   "metadata": {},
   "outputs": [],
   "source": [
    "def find_item(cell):\n",
    "    if item in cell:\n",
    "        return 1\n",
    "    return 0"
   ]
  },
  {
   "cell_type": "code",
   "execution_count": 72,
   "id": "30b029ba",
   "metadata": {},
   "outputs": [],
   "source": [
    "for item in ingredients:\n",
    "    df[item] = df['ingredients'].apply(find_item)"
   ]
  },
  {
   "cell_type": "code",
   "execution_count": 71,
   "id": "9b0ef72a",
   "metadata": {},
   "outputs": [],
   "source": [
    "df['ingredients'] = df['ingredients'].apply(len)"
   ]
  },
  {
   "cell_type": "markdown",
   "id": "43a2855d",
   "metadata": {},
   "source": [
    "# 13.4 Ответ 1: 2\n",
    "#         Ответ 2: 4\n",
    "#         Ответ 3: 2\n",
    "#         Ответ 4: 2, 3, 4\n",
    "#         Ответ 5: 3\n",
    "#         Ответ 6:\n",
    "with open('recipes.json') as f:\n",
    "    recipes = json.load(f)\n",
    "ingredients = set()\n",
    "for recipe in recipes:\n",
    "    for ing in recipe['ingredients']:\n",
    "        ingredients.add(ing)\n",
    "df = pd.DataFrame(recipes)\n",
    "def find_item(cell):\n",
    "    if item in cell:\n",
    "        return 1\n",
    "    return 0\n",
    "for item in ingredients:\n",
    "    df[item] = df['ingredients'].apply(find_item)\n",
    "df['ingredients'] = df['ingredients'].apply(lambda x: len(x))"
   ]
  },
  {
   "cell_type": "code",
   "execution_count": 76,
   "id": "212e97a2",
   "metadata": {},
   "outputs": [],
   "source": [
    "with open('recipes.json') as f:\n",
    "    recipes = json.load(f)\n",
    "ingredients = set()\n",
    "for recipe in recipes:\n",
    "    for ing in recipe['ingredients']:\n",
    "        ingredients.add(ing)\n",
    "df = pd.DataFrame(recipes)\n",
    "def find_item(cell):\n",
    "    if item in cell:\n",
    "        return 1\n",
    "    return 0\n",
    "for item in ingredients:\n",
    "    df[item] = df['ingredients'].apply(find_item)\n",
    "df['ingredients'] = df['ingredients'].apply(lambda x: len(x))"
   ]
  },
  {
   "cell_type": "code",
   "execution_count": 77,
   "id": "35d3019c",
   "metadata": {},
   "outputs": [
    {
     "data": {
      "text/plain": [
       "0       9\n",
       "1      11\n",
       "2      12\n",
       "3       4\n",
       "4      20\n",
       "       ..\n",
       "495     9\n",
       "496     8\n",
       "497     8\n",
       "498    19\n",
       "499    17\n",
       "Name: ingredients, Length: 500, dtype: int64"
      ]
     },
     "execution_count": 77,
     "metadata": {},
     "output_type": "execute_result"
    }
   ],
   "source": [
    "df['ingredients']"
   ]
  },
  {
   "cell_type": "markdown",
   "id": "81385c58",
   "metadata": {},
   "source": [
    "# 13.6  Ответ 1: 5\n",
    "#         Ответ 2: 2, 5\n"
   ]
  },
  {
   "cell_type": "code",
   "execution_count": 11,
   "id": "dadc722f",
   "metadata": {},
   "outputs": [],
   "source": [
    "data = pd.read_excel('Fig3-1.xls')"
   ]
  },
  {
   "cell_type": "code",
   "execution_count": 12,
   "id": "f7b7a72e",
   "metadata": {},
   "outputs": [],
   "source": [
    "data = pd.read_excel('Fig3-1.xls', header=None)"
   ]
  },
  {
   "cell_type": "code",
   "execution_count": 17,
   "id": "119b38eb",
   "metadata": {},
   "outputs": [
    {
     "data": {
      "text/html": [
       "<div>\n",
       "<style scoped>\n",
       "    .dataframe tbody tr th:only-of-type {\n",
       "        vertical-align: middle;\n",
       "    }\n",
       "\n",
       "    .dataframe tbody tr th {\n",
       "        vertical-align: top;\n",
       "    }\n",
       "\n",
       "    .dataframe thead th {\n",
       "        text-align: right;\n",
       "    }\n",
       "</style>\n",
       "<table border=\"1\" class=\"dataframe\">\n",
       "  <thead>\n",
       "    <tr style=\"text-align: right;\">\n",
       "      <th></th>\n",
       "      <th>0</th>\n",
       "      <th>1</th>\n",
       "      <th>2</th>\n",
       "      <th>3</th>\n",
       "      <th>4</th>\n",
       "      <th>5</th>\n",
       "      <th>6</th>\n",
       "      <th>7</th>\n",
       "      <th>8</th>\n",
       "      <th>9</th>\n",
       "      <th>10</th>\n",
       "      <th>11</th>\n",
       "      <th>12</th>\n",
       "      <th>13</th>\n",
       "      <th>14</th>\n",
       "      <th>15</th>\n",
       "      <th>16</th>\n",
       "      <th>17</th>\n",
       "      <th>18</th>\n",
       "    </tr>\n",
       "  </thead>\n",
       "  <tbody>\n",
       "    <tr>\n",
       "      <th>0</th>\n",
       "      <td>U.S. Home Price and Related data, for Figure 3...</td>\n",
       "      <td>NaN</td>\n",
       "      <td>NaN</td>\n",
       "      <td>NaN</td>\n",
       "      <td>NaN</td>\n",
       "      <td>NaN</td>\n",
       "      <td>NaN</td>\n",
       "      <td>NaN</td>\n",
       "      <td>NaN</td>\n",
       "      <td>NaN</td>\n",
       "      <td>NaN</td>\n",
       "      <td>NaN</td>\n",
       "      <td>NaN</td>\n",
       "      <td>NaN</td>\n",
       "      <td>NaN</td>\n",
       "      <td>NaN</td>\n",
       "      <td>NaN</td>\n",
       "      <td>NaN</td>\n",
       "      <td>NaN</td>\n",
       "    </tr>\n",
       "    <tr>\n",
       "      <th>1</th>\n",
       "      <td>See the book for description of data.</td>\n",
       "      <td>NaN</td>\n",
       "      <td>NaN</td>\n",
       "      <td>NaN</td>\n",
       "      <td>Update Nominal Home Price Index, Click Additio...</td>\n",
       "      <td>NaN</td>\n",
       "      <td>NaN</td>\n",
       "      <td>NaN</td>\n",
       "      <td>NaN</td>\n",
       "      <td>NaN</td>\n",
       "      <td>NaN</td>\n",
       "      <td>NaN</td>\n",
       "      <td>NaN</td>\n",
       "      <td>NaN</td>\n",
       "      <td>NaN</td>\n",
       "      <td>NaN</td>\n",
       "      <td>NaN</td>\n",
       "      <td>NaN</td>\n",
       "      <td>NaN</td>\n",
       "    </tr>\n",
       "    <tr>\n",
       "      <th>2</th>\n",
       "      <td>Monthly data from January 1953 for prices, all...</td>\n",
       "      <td>NaN</td>\n",
       "      <td>NaN</td>\n",
       "      <td>NaN</td>\n",
       "      <td>NaN</td>\n",
       "      <td>NaN</td>\n",
       "      <td>NaN</td>\n",
       "      <td>NaN</td>\n",
       "      <td>Nominal</td>\n",
       "      <td>NaN</td>\n",
       "      <td>NaN</td>\n",
       "      <td>NaN</td>\n",
       "      <td>NaN</td>\n",
       "      <td>NaN</td>\n",
       "      <td>NaN</td>\n",
       "      <td>NaN</td>\n",
       "      <td>NaN</td>\n",
       "      <td>NaN</td>\n",
       "      <td>NaN</td>\n",
       "    </tr>\n",
       "    <tr>\n",
       "      <th>3</th>\n",
       "      <td>NaN</td>\n",
       "      <td>Real</td>\n",
       "      <td>NaN</td>\n",
       "      <td>Real</td>\n",
       "      <td>NaN</td>\n",
       "      <td>NaN</td>\n",
       "      <td>NaN</td>\n",
       "      <td>NaN</td>\n",
       "      <td>Home</td>\n",
       "      <td>NaN</td>\n",
       "      <td>NaN</td>\n",
       "      <td>Nominal</td>\n",
       "      <td>NaN</td>\n",
       "      <td>NaN</td>\n",
       "      <td>Consumer</td>\n",
       "      <td>NaN</td>\n",
       "      <td>NaN</td>\n",
       "      <td>NaN</td>\n",
       "      <td>NaN</td>\n",
       "    </tr>\n",
       "    <tr>\n",
       "      <th>4</th>\n",
       "      <td>NaN</td>\n",
       "      <td>Home</td>\n",
       "      <td>NaN</td>\n",
       "      <td>Building</td>\n",
       "      <td>U.S.</td>\n",
       "      <td>NaN</td>\n",
       "      <td>NaN</td>\n",
       "      <td>NaN</td>\n",
       "      <td>Price</td>\n",
       "      <td>HPI</td>\n",
       "      <td>NaN</td>\n",
       "      <td>Building</td>\n",
       "      <td>NaN</td>\n",
       "      <td>NaN</td>\n",
       "      <td>Price</td>\n",
       "      <td>CPI Annual&amp;</td>\n",
       "      <td>NaN</td>\n",
       "      <td>NaN</td>\n",
       "      <td>NaN</td>\n",
       "    </tr>\n",
       "    <tr>\n",
       "      <th>...</th>\n",
       "      <td>...</td>\n",
       "      <td>...</td>\n",
       "      <td>...</td>\n",
       "      <td>...</td>\n",
       "      <td>...</td>\n",
       "      <td>...</td>\n",
       "      <td>...</td>\n",
       "      <td>...</td>\n",
       "      <td>...</td>\n",
       "      <td>...</td>\n",
       "      <td>...</td>\n",
       "      <td>...</td>\n",
       "      <td>...</td>\n",
       "      <td>...</td>\n",
       "      <td>...</td>\n",
       "      <td>...</td>\n",
       "      <td>...</td>\n",
       "      <td>...</td>\n",
       "      <td>...</td>\n",
       "    </tr>\n",
       "    <tr>\n",
       "      <th>859</th>\n",
       "      <td>2018.791667</td>\n",
       "      <td>174.056034</td>\n",
       "      <td>NaN</td>\n",
       "      <td>NaN</td>\n",
       "      <td>NaN</td>\n",
       "      <td>NaN</td>\n",
       "      <td>NaN</td>\n",
       "      <td>2018.791667</td>\n",
       "      <td>205.709</td>\n",
       "      <td>S&amp;P/CoreLogic/Case-Shiller</td>\n",
       "      <td>NaN</td>\n",
       "      <td>NaN</td>\n",
       "      <td>NaN</td>\n",
       "      <td>2018.791667</td>\n",
       "      <td>252.885</td>\n",
       "      <td>BLS</td>\n",
       "      <td>NaN</td>\n",
       "      <td>NaN</td>\n",
       "      <td>NaN</td>\n",
       "    </tr>\n",
       "    <tr>\n",
       "      <th>860</th>\n",
       "      <td>2018.875</td>\n",
       "      <td>174.438912</td>\n",
       "      <td>NaN</td>\n",
       "      <td>NaN</td>\n",
       "      <td>NaN</td>\n",
       "      <td>NaN</td>\n",
       "      <td>NaN</td>\n",
       "      <td>2018.875</td>\n",
       "      <td>205.471</td>\n",
       "      <td>S&amp;P/CoreLogic/Case-Shiller</td>\n",
       "      <td>NaN</td>\n",
       "      <td>NaN</td>\n",
       "      <td>NaN</td>\n",
       "      <td>2018.875</td>\n",
       "      <td>252.038</td>\n",
       "      <td>BLS</td>\n",
       "      <td>NaN</td>\n",
       "      <td>NaN</td>\n",
       "      <td>NaN</td>\n",
       "    </tr>\n",
       "    <tr>\n",
       "      <th>861</th>\n",
       "      <td>2018.958333</td>\n",
       "      <td>174.658876</td>\n",
       "      <td>NaN</td>\n",
       "      <td>NaN</td>\n",
       "      <td>NaN</td>\n",
       "      <td>NaN</td>\n",
       "      <td>NaN</td>\n",
       "      <td>2018.958333</td>\n",
       "      <td>205.073</td>\n",
       "      <td>S&amp;P/CoreLogic/Case-Shiller</td>\n",
       "      <td>NaN</td>\n",
       "      <td>NaN</td>\n",
       "      <td>NaN</td>\n",
       "      <td>2018.958333</td>\n",
       "      <td>251.233</td>\n",
       "      <td>BLS</td>\n",
       "      <td>NaN</td>\n",
       "      <td>NaN</td>\n",
       "      <td>NaN</td>\n",
       "    </tr>\n",
       "    <tr>\n",
       "      <th>862</th>\n",
       "      <td>2019.041667</td>\n",
       "      <td>174.01623</td>\n",
       "      <td>NaN</td>\n",
       "      <td>NaN</td>\n",
       "      <td>NaN</td>\n",
       "      <td>NaN</td>\n",
       "      <td>NaN</td>\n",
       "      <td>2019.041667</td>\n",
       "      <td>204.708</td>\n",
       "      <td>S&amp;P/CoreLogic/Case-Shiller</td>\n",
       "      <td>NaN</td>\n",
       "      <td>NaN</td>\n",
       "      <td>NaN</td>\n",
       "      <td>2019.041667</td>\n",
       "      <td>251.712</td>\n",
       "      <td>BLS</td>\n",
       "      <td>NaN</td>\n",
       "      <td>NaN</td>\n",
       "      <td>NaN</td>\n",
       "    </tr>\n",
       "    <tr>\n",
       "      <th>863</th>\n",
       "      <td>NaN</td>\n",
       "      <td>NaN</td>\n",
       "      <td>NaN</td>\n",
       "      <td>NaN</td>\n",
       "      <td>NaN</td>\n",
       "      <td>NaN</td>\n",
       "      <td>NaN</td>\n",
       "      <td>NaN</td>\n",
       "      <td>NaN</td>\n",
       "      <td>NaN</td>\n",
       "      <td>NaN</td>\n",
       "      <td>NaN</td>\n",
       "      <td>NaN</td>\n",
       "      <td>2019.125</td>\n",
       "      <td>252.776</td>\n",
       "      <td>BLS</td>\n",
       "      <td>NaN</td>\n",
       "      <td>NaN</td>\n",
       "      <td>NaN</td>\n",
       "    </tr>\n",
       "  </tbody>\n",
       "</table>\n",
       "<p>864 rows × 19 columns</p>\n",
       "</div>"
      ],
      "text/plain": [
       "                                                    0           1    2   \\\n",
       "0    U.S. Home Price and Related data, for Figure 3...         NaN  NaN   \n",
       "1                See the book for description of data.         NaN  NaN   \n",
       "2    Monthly data from January 1953 for prices, all...         NaN  NaN   \n",
       "3                                                  NaN        Real  NaN   \n",
       "4                                                  NaN        Home  NaN   \n",
       "..                                                 ...         ...  ...   \n",
       "859                                        2018.791667  174.056034  NaN   \n",
       "860                                           2018.875  174.438912  NaN   \n",
       "861                                        2018.958333  174.658876  NaN   \n",
       "862                                        2019.041667   174.01623  NaN   \n",
       "863                                                NaN         NaN  NaN   \n",
       "\n",
       "           3                                                  4    5    6   \\\n",
       "0         NaN                                                NaN  NaN  NaN   \n",
       "1         NaN  Update Nominal Home Price Index, Click Additio...  NaN  NaN   \n",
       "2         NaN                                                NaN  NaN  NaN   \n",
       "3        Real                                                NaN  NaN  NaN   \n",
       "4    Building                                               U.S.  NaN  NaN   \n",
       "..        ...                                                ...  ...  ...   \n",
       "859       NaN                                                NaN  NaN  NaN   \n",
       "860       NaN                                                NaN  NaN  NaN   \n",
       "861       NaN                                                NaN  NaN  NaN   \n",
       "862       NaN                                                NaN  NaN  NaN   \n",
       "863       NaN                                                NaN  NaN  NaN   \n",
       "\n",
       "              7        8                           9    10        11   12  \\\n",
       "0            NaN      NaN                         NaN  NaN       NaN  NaN   \n",
       "1            NaN      NaN                         NaN  NaN       NaN  NaN   \n",
       "2            NaN  Nominal                         NaN  NaN       NaN  NaN   \n",
       "3            NaN     Home                         NaN  NaN   Nominal  NaN   \n",
       "4            NaN    Price                         HPI  NaN  Building  NaN   \n",
       "..           ...      ...                         ...  ...       ...  ...   \n",
       "859  2018.791667  205.709  S&P/CoreLogic/Case-Shiller  NaN       NaN  NaN   \n",
       "860     2018.875  205.471  S&P/CoreLogic/Case-Shiller  NaN       NaN  NaN   \n",
       "861  2018.958333  205.073  S&P/CoreLogic/Case-Shiller  NaN       NaN  NaN   \n",
       "862  2019.041667  204.708  S&P/CoreLogic/Case-Shiller  NaN       NaN  NaN   \n",
       "863          NaN      NaN                         NaN  NaN       NaN  NaN   \n",
       "\n",
       "              13        14           15  16   17   18  \n",
       "0            NaN       NaN          NaN NaN  NaN  NaN  \n",
       "1            NaN       NaN          NaN NaN  NaN  NaN  \n",
       "2            NaN       NaN          NaN NaN  NaN  NaN  \n",
       "3            NaN  Consumer          NaN NaN  NaN  NaN  \n",
       "4            NaN     Price  CPI Annual& NaN  NaN  NaN  \n",
       "..           ...       ...          ...  ..  ...  ...  \n",
       "859  2018.791667   252.885          BLS NaN  NaN  NaN  \n",
       "860     2018.875   252.038          BLS NaN  NaN  NaN  \n",
       "861  2018.958333   251.233          BLS NaN  NaN  NaN  \n",
       "862  2019.041667   251.712          BLS NaN  NaN  NaN  \n",
       "863     2019.125   252.776          BLS NaN  NaN  NaN  \n",
       "\n",
       "[864 rows x 19 columns]"
      ]
     },
     "execution_count": 17,
     "metadata": {},
     "output_type": "execute_result"
    }
   ],
   "source": [
    "pd.set_option('display.max_columns', None)\n",
    "data"
   ]
  },
  {
   "cell_type": "code",
   "execution_count": 23,
   "id": "3cb776d7",
   "metadata": {},
   "outputs": [],
   "source": [
    "data_file=pd.ExcelFile('./Fig3-1.xls')\n",
    "data=pd.read_excel(data_file,header=None)"
   ]
  },
  {
   "cell_type": "code",
   "execution_count": null,
   "id": "611e91f6",
   "metadata": {},
   "outputs": [],
   "source": []
  },
  {
   "cell_type": "code",
   "execution_count": 32,
   "id": "12d28ee7",
   "metadata": {},
   "outputs": [],
   "source": [
    "data=pd.read_excel('Fig3-1.xls',['Sheet1','Sheet2'])"
   ]
  },
  {
   "cell_type": "code",
   "execution_count": null,
   "id": "bc4e5107",
   "metadata": {},
   "outputs": [],
   "source": []
  },
  {
   "cell_type": "markdown",
   "id": "55189ac7",
   "metadata": {},
   "source": [
    "# 13.7  Ответ 1: 864\n",
    "#         Ответ 2: 2"
   ]
  },
  {
   "cell_type": "code",
   "execution_count": null,
   "id": "e2f0ae61",
   "metadata": {},
   "outputs": [],
   "source": []
  },
  {
   "cell_type": "code",
   "execution_count": 51,
   "id": "7642614b",
   "metadata": {},
   "outputs": [],
   "source": [
    "\n",
    "data=pd.read_excel(\"./nakladnaya.xls\",header=None,skiprows=2)"
   ]
  },
  {
   "cell_type": "code",
   "execution_count": 52,
   "id": "c40dc211",
   "metadata": {},
   "outputs": [
    {
     "data": {
      "text/html": [
       "<div>\n",
       "<style scoped>\n",
       "    .dataframe tbody tr th:only-of-type {\n",
       "        vertical-align: middle;\n",
       "    }\n",
       "\n",
       "    .dataframe tbody tr th {\n",
       "        vertical-align: top;\n",
       "    }\n",
       "\n",
       "    .dataframe thead th {\n",
       "        text-align: right;\n",
       "    }\n",
       "</style>\n",
       "<table border=\"1\" class=\"dataframe\">\n",
       "  <thead>\n",
       "    <tr style=\"text-align: right;\">\n",
       "      <th></th>\n",
       "      <th>0</th>\n",
       "      <th>1</th>\n",
       "      <th>2</th>\n",
       "      <th>3</th>\n",
       "      <th>4</th>\n",
       "      <th>5</th>\n",
       "      <th>6</th>\n",
       "      <th>7</th>\n",
       "      <th>8</th>\n",
       "      <th>9</th>\n",
       "      <th>10</th>\n",
       "      <th>11</th>\n",
       "      <th>12</th>\n",
       "    </tr>\n",
       "  </thead>\n",
       "  <tbody>\n",
       "    <tr>\n",
       "      <th>0</th>\n",
       "      <td>NaN</td>\n",
       "      <td>NaN</td>\n",
       "      <td>NaN</td>\n",
       "      <td>НАКЛАДНАЯ</td>\n",
       "      <td>№ 5764809  от \"08\" апреля 2018 г.</td>\n",
       "      <td>NaN</td>\n",
       "      <td>NaN</td>\n",
       "      <td>NaN</td>\n",
       "      <td>NaN</td>\n",
       "      <td>NaN</td>\n",
       "      <td>NaN</td>\n",
       "      <td>NaN</td>\n",
       "      <td>NaN</td>\n",
       "    </tr>\n",
       "    <tr>\n",
       "      <th>2</th>\n",
       "      <td>NaN</td>\n",
       "      <td>Грузоотправитель:</td>\n",
       "      <td>NaN</td>\n",
       "      <td>ООО \"Первый строитель\"</td>\n",
       "      <td>NaN</td>\n",
       "      <td>NaN</td>\n",
       "      <td>NaN</td>\n",
       "      <td>NaN</td>\n",
       "      <td>NaN</td>\n",
       "      <td>NaN</td>\n",
       "      <td>NaN</td>\n",
       "      <td>NaN</td>\n",
       "      <td>NaN</td>\n",
       "    </tr>\n",
       "    <tr>\n",
       "      <th>4</th>\n",
       "      <td>NaN</td>\n",
       "      <td>Грузополучатель:</td>\n",
       "      <td>NaN</td>\n",
       "      <td>ООО \"Стройка века\"</td>\n",
       "      <td>NaN</td>\n",
       "      <td>NaN</td>\n",
       "      <td>NaN</td>\n",
       "      <td>NaN</td>\n",
       "      <td>NaN</td>\n",
       "      <td>NaN</td>\n",
       "      <td>NaN</td>\n",
       "      <td>NaN</td>\n",
       "      <td>NaN</td>\n",
       "    </tr>\n",
       "    <tr>\n",
       "      <th>6</th>\n",
       "      <td>NaN</td>\n",
       "      <td>Основание для отпуска: Договор №</td>\n",
       "      <td>NaN</td>\n",
       "      <td>NaN</td>\n",
       "      <td>86</td>\n",
       "      <td>от \"02\"апреля 2018 г.</td>\n",
       "      <td>NaN</td>\n",
       "      <td>NaN</td>\n",
       "      <td>NaN</td>\n",
       "      <td>NaN</td>\n",
       "      <td>NaN</td>\n",
       "      <td>NaN</td>\n",
       "      <td>NaN</td>\n",
       "    </tr>\n",
       "    <tr>\n",
       "      <th>9</th>\n",
       "      <td>NaN</td>\n",
       "      <td>№</td>\n",
       "      <td>Наименование товарно-материальных ценностей</td>\n",
       "      <td>NaN</td>\n",
       "      <td>NaN</td>\n",
       "      <td>NaN</td>\n",
       "      <td>Ед. изм.</td>\n",
       "      <td>NaN</td>\n",
       "      <td>NaN</td>\n",
       "      <td>Количество</td>\n",
       "      <td>NaN</td>\n",
       "      <td>Цена,</td>\n",
       "      <td>Сумма,</td>\n",
       "    </tr>\n",
       "    <tr>\n",
       "      <th>10</th>\n",
       "      <td>NaN</td>\n",
       "      <td>п/п</td>\n",
       "      <td>NaN</td>\n",
       "      <td>NaN</td>\n",
       "      <td>NaN</td>\n",
       "      <td>NaN</td>\n",
       "      <td>NaN</td>\n",
       "      <td>NaN</td>\n",
       "      <td>NaN</td>\n",
       "      <td>NaN</td>\n",
       "      <td>NaN</td>\n",
       "      <td>руб. коп.</td>\n",
       "      <td>руб. коп.</td>\n",
       "    </tr>\n",
       "    <tr>\n",
       "      <th>11</th>\n",
       "      <td>NaN</td>\n",
       "      <td>1</td>\n",
       "      <td>Велосипед \"Спринтер\"</td>\n",
       "      <td>NaN</td>\n",
       "      <td>NaN</td>\n",
       "      <td>NaN</td>\n",
       "      <td>шт</td>\n",
       "      <td>NaN</td>\n",
       "      <td>NaN</td>\n",
       "      <td>5</td>\n",
       "      <td>NaN</td>\n",
       "      <td>9000</td>\n",
       "      <td>45000</td>\n",
       "    </tr>\n",
       "    <tr>\n",
       "      <th>12</th>\n",
       "      <td>NaN</td>\n",
       "      <td>2</td>\n",
       "      <td>Велосипед \"Малютка\"</td>\n",
       "      <td>NaN</td>\n",
       "      <td>NaN</td>\n",
       "      <td>NaN</td>\n",
       "      <td>шт</td>\n",
       "      <td>NaN</td>\n",
       "      <td>NaN</td>\n",
       "      <td>10</td>\n",
       "      <td>NaN</td>\n",
       "      <td>3500</td>\n",
       "      <td>35000</td>\n",
       "    </tr>\n",
       "    <tr>\n",
       "      <th>14</th>\n",
       "      <td>NaN</td>\n",
       "      <td>NaN</td>\n",
       "      <td>Всего отпущено</td>\n",
       "      <td>2 (два) наименования</td>\n",
       "      <td>NaN</td>\n",
       "      <td>NaN</td>\n",
       "      <td>NaN</td>\n",
       "      <td>NaN</td>\n",
       "      <td>NaN</td>\n",
       "      <td>NaN</td>\n",
       "      <td>NaN</td>\n",
       "      <td>NaN</td>\n",
       "      <td>NaN</td>\n",
       "    </tr>\n",
       "    <tr>\n",
       "      <th>16</th>\n",
       "      <td>NaN</td>\n",
       "      <td>NaN</td>\n",
       "      <td>На сумму</td>\n",
       "      <td>80 000 (восемьдесят тысяч) рублей</td>\n",
       "      <td>NaN</td>\n",
       "      <td>NaN</td>\n",
       "      <td>NaN</td>\n",
       "      <td>NaN</td>\n",
       "      <td>NaN</td>\n",
       "      <td>NaN</td>\n",
       "      <td>NaN</td>\n",
       "      <td>NaN</td>\n",
       "      <td>NaN</td>\n",
       "    </tr>\n",
       "    <tr>\n",
       "      <th>18</th>\n",
       "      <td>NaN</td>\n",
       "      <td>NaN</td>\n",
       "      <td>Отпуск разрешил</td>\n",
       "      <td>Зам. Директора</td>\n",
       "      <td>NaN</td>\n",
       "      <td>NaN</td>\n",
       "      <td>NaN</td>\n",
       "      <td>NaN</td>\n",
       "      <td>Куликов</td>\n",
       "      <td>NaN</td>\n",
       "      <td>NaN</td>\n",
       "      <td>Куликов П.Д.</td>\n",
       "      <td>NaN</td>\n",
       "    </tr>\n",
       "    <tr>\n",
       "      <th>20</th>\n",
       "      <td>NaN</td>\n",
       "      <td>NaN</td>\n",
       "      <td>М.П.</td>\n",
       "      <td>NaN</td>\n",
       "      <td>NaN</td>\n",
       "      <td>NaN</td>\n",
       "      <td>NaN</td>\n",
       "      <td>NaN</td>\n",
       "      <td>NaN</td>\n",
       "      <td>NaN</td>\n",
       "      <td>NaN</td>\n",
       "      <td>NaN</td>\n",
       "      <td>NaN</td>\n",
       "    </tr>\n",
       "    <tr>\n",
       "      <th>22</th>\n",
       "      <td>NaN</td>\n",
       "      <td>NaN</td>\n",
       "      <td>Отпустил</td>\n",
       "      <td>Кладовщик</td>\n",
       "      <td>NaN</td>\n",
       "      <td>NaN</td>\n",
       "      <td>NaN</td>\n",
       "      <td>NaN</td>\n",
       "      <td>Мазов</td>\n",
       "      <td>NaN</td>\n",
       "      <td>NaN</td>\n",
       "      <td>Мазов Р.К.</td>\n",
       "      <td>NaN</td>\n",
       "    </tr>\n",
       "    <tr>\n",
       "      <th>23</th>\n",
       "      <td>NaN</td>\n",
       "      <td>NaN</td>\n",
       "      <td>Получил</td>\n",
       "      <td>Водитель</td>\n",
       "      <td>NaN</td>\n",
       "      <td>NaN</td>\n",
       "      <td>NaN</td>\n",
       "      <td>NaN</td>\n",
       "      <td>Дроценко</td>\n",
       "      <td>NaN</td>\n",
       "      <td>NaN</td>\n",
       "      <td>Дроценко А.С.</td>\n",
       "      <td>NaN</td>\n",
       "    </tr>\n",
       "    <tr>\n",
       "      <th>25</th>\n",
       "      <td>NaN</td>\n",
       "      <td>NaN</td>\n",
       "      <td>М.П.</td>\n",
       "      <td>NaN</td>\n",
       "      <td>NaN</td>\n",
       "      <td>NaN</td>\n",
       "      <td>NaN</td>\n",
       "      <td>NaN</td>\n",
       "      <td>NaN</td>\n",
       "      <td>NaN</td>\n",
       "      <td>NaN</td>\n",
       "      <td>NaN</td>\n",
       "      <td>NaN</td>\n",
       "    </tr>\n",
       "  </tbody>\n",
       "</table>\n",
       "</div>"
      ],
      "text/plain": [
       "    0                                  1   \\\n",
       "0  NaN                                NaN   \n",
       "2  NaN                  Грузоотправитель:   \n",
       "4  NaN                   Грузополучатель:   \n",
       "6  NaN  Основание для отпуска: Договор №    \n",
       "9  NaN                                  №   \n",
       "10 NaN                                п/п   \n",
       "11 NaN                                  1   \n",
       "12 NaN                                  2   \n",
       "14 NaN                                NaN   \n",
       "16 NaN                                NaN   \n",
       "18 NaN                                NaN   \n",
       "20 NaN                                NaN   \n",
       "22 NaN                                NaN   \n",
       "23 NaN                                NaN   \n",
       "25 NaN                                NaN   \n",
       "\n",
       "                                             2   \\\n",
       "0                                           NaN   \n",
       "2                                           NaN   \n",
       "4                                           NaN   \n",
       "6                                           NaN   \n",
       "9   Наименование товарно-материальных ценностей   \n",
       "10                                          NaN   \n",
       "11                        Велосипед \"Спринтер\"    \n",
       "12                          Велосипед \"Малютка\"   \n",
       "14                              Всего отпущено    \n",
       "16                                   На сумму     \n",
       "18                            Отпуск разрешил     \n",
       "20                                         М.П.   \n",
       "22                                   Отпустил     \n",
       "23                                    Получил     \n",
       "25                                         М.П.   \n",
       "\n",
       "                                   3                                  4   \\\n",
       "0                           НАКЛАДНАЯ  № 5764809  от \"08\" апреля 2018 г.   \n",
       "2              ООО \"Первый строитель\"                                NaN   \n",
       "4                 ООО \"Стройка века\"                                 NaN   \n",
       "6                                 NaN                                 86   \n",
       "9                                 NaN                                NaN   \n",
       "10                                NaN                                NaN   \n",
       "11                                NaN                                NaN   \n",
       "12                                NaN                                NaN   \n",
       "14               2 (два) наименования                                NaN   \n",
       "16  80 000 (восемьдесят тысяч) рублей                                NaN   \n",
       "18                     Зам. Директора                                NaN   \n",
       "20                                NaN                                NaN   \n",
       "22                         Кладовщик                                 NaN   \n",
       "23                          Водитель                                 NaN   \n",
       "25                                NaN                                NaN   \n",
       "\n",
       "                       5         6   7          8           9   10  \\\n",
       "0                     NaN       NaN NaN        NaN         NaN NaN   \n",
       "2                     NaN       NaN NaN        NaN         NaN NaN   \n",
       "4                     NaN       NaN NaN        NaN         NaN NaN   \n",
       "6   от \"02\"апреля 2018 г.       NaN NaN        NaN         NaN NaN   \n",
       "9                     NaN  Ед. изм. NaN        NaN  Количество NaN   \n",
       "10                    NaN       NaN NaN        NaN         NaN NaN   \n",
       "11                    NaN        шт NaN        NaN           5 NaN   \n",
       "12                    NaN        шт NaN        NaN          10 NaN   \n",
       "14                    NaN       NaN NaN        NaN         NaN NaN   \n",
       "16                    NaN       NaN NaN        NaN         NaN NaN   \n",
       "18                    NaN       NaN NaN    Куликов         NaN NaN   \n",
       "20                    NaN       NaN NaN        NaN         NaN NaN   \n",
       "22                    NaN       NaN NaN      Мазов         NaN NaN   \n",
       "23                    NaN       NaN NaN  Дроценко          NaN NaN   \n",
       "25                    NaN       NaN NaN        NaN         NaN NaN   \n",
       "\n",
       "                11         12  \n",
       "0              NaN        NaN  \n",
       "2              NaN        NaN  \n",
       "4              NaN        NaN  \n",
       "6              NaN        NaN  \n",
       "9           Цена,     Сумма,   \n",
       "10       руб. коп.  руб. коп.  \n",
       "11            9000      45000  \n",
       "12            3500      35000  \n",
       "14             NaN        NaN  \n",
       "16             NaN        NaN  \n",
       "18   Куликов П.Д.         NaN  \n",
       "20             NaN        NaN  \n",
       "22      Мазов Р.К.        NaN  \n",
       "23  Дроценко А.С.         NaN  \n",
       "25             NaN        NaN  "
      ]
     },
     "execution_count": 52,
     "metadata": {},
     "output_type": "execute_result"
    }
   ],
   "source": [
    "data.dropna(axis='index', how='all')"
   ]
  },
  {
   "cell_type": "code",
   "execution_count": 42,
   "id": "5aa5e445",
   "metadata": {},
   "outputs": [
    {
     "data": {
      "text/plain": [
       "'№ 5764809  '"
      ]
     },
     "execution_count": 42,
     "metadata": {},
     "output_type": "execute_result"
    }
   ],
   "source": [
    "data.iloc[0, 4].split('от')[0]"
   ]
  },
  {
   "cell_type": "code",
   "execution_count": 53,
   "id": "451f408f",
   "metadata": {},
   "outputs": [
    {
     "data": {
      "text/html": [
       "<div>\n",
       "<style scoped>\n",
       "    .dataframe tbody tr th:only-of-type {\n",
       "        vertical-align: middle;\n",
       "    }\n",
       "\n",
       "    .dataframe tbody tr th {\n",
       "        vertical-align: top;\n",
       "    }\n",
       "\n",
       "    .dataframe thead th {\n",
       "        text-align: right;\n",
       "    }\n",
       "</style>\n",
       "<table border=\"1\" class=\"dataframe\">\n",
       "  <thead>\n",
       "    <tr style=\"text-align: right;\">\n",
       "      <th></th>\n",
       "      <th>1</th>\n",
       "      <th>2</th>\n",
       "      <th>6</th>\n",
       "      <th>9</th>\n",
       "      <th>11</th>\n",
       "      <th>12</th>\n",
       "    </tr>\n",
       "  </thead>\n",
       "  <tbody>\n",
       "    <tr>\n",
       "      <th>6</th>\n",
       "      <td>Основание для отпуска: Договор №</td>\n",
       "      <td>NaN</td>\n",
       "      <td>NaN</td>\n",
       "      <td>NaN</td>\n",
       "      <td>NaN</td>\n",
       "      <td>NaN</td>\n",
       "    </tr>\n",
       "    <tr>\n",
       "      <th>7</th>\n",
       "      <td>NaN</td>\n",
       "      <td>NaN</td>\n",
       "      <td>NaN</td>\n",
       "      <td>NaN</td>\n",
       "      <td>NaN</td>\n",
       "      <td>NaN</td>\n",
       "    </tr>\n",
       "  </tbody>\n",
       "</table>\n",
       "</div>"
      ],
      "text/plain": [
       "                                  1    2    6    9    11   12\n",
       "6  Основание для отпуска: Договор №   NaN  NaN  NaN  NaN  NaN\n",
       "7                                NaN  NaN  NaN  NaN  NaN  NaN"
      ]
     },
     "execution_count": 53,
     "metadata": {},
     "output_type": "execute_result"
    }
   ],
   "source": [
    "data.iloc[6:8, [1, 2, 6, 9, 11, 12]]"
   ]
  },
  {
   "cell_type": "code",
   "execution_count": 54,
   "id": "59b3c0d4",
   "metadata": {},
   "outputs": [
    {
     "data": {
      "text/html": [
       "<div>\n",
       "<style scoped>\n",
       "    .dataframe tbody tr th:only-of-type {\n",
       "        vertical-align: middle;\n",
       "    }\n",
       "\n",
       "    .dataframe tbody tr th {\n",
       "        vertical-align: top;\n",
       "    }\n",
       "\n",
       "    .dataframe thead th {\n",
       "        text-align: right;\n",
       "    }\n",
       "</style>\n",
       "<table border=\"1\" class=\"dataframe\">\n",
       "  <thead>\n",
       "    <tr style=\"text-align: right;\">\n",
       "      <th></th>\n",
       "      <th>0</th>\n",
       "      <th>2</th>\n",
       "      <th>6</th>\n",
       "      <th>9</th>\n",
       "      <th>11</th>\n",
       "      <th>12</th>\n",
       "    </tr>\n",
       "  </thead>\n",
       "  <tbody>\n",
       "    <tr>\n",
       "      <th>6</th>\n",
       "      <td>NaN</td>\n",
       "      <td>NaN</td>\n",
       "      <td>NaN</td>\n",
       "      <td>NaN</td>\n",
       "      <td>NaN</td>\n",
       "      <td>NaN</td>\n",
       "    </tr>\n",
       "    <tr>\n",
       "      <th>7</th>\n",
       "      <td>NaN</td>\n",
       "      <td>NaN</td>\n",
       "      <td>NaN</td>\n",
       "      <td>NaN</td>\n",
       "      <td>NaN</td>\n",
       "      <td>NaN</td>\n",
       "    </tr>\n",
       "  </tbody>\n",
       "</table>\n",
       "</div>"
      ],
      "text/plain": [
       "   0    2    6    9    11   12\n",
       "6 NaN  NaN  NaN  NaN  NaN  NaN\n",
       "7 NaN  NaN  NaN  NaN  NaN  NaN"
      ]
     },
     "execution_count": 54,
     "metadata": {},
     "output_type": "execute_result"
    }
   ],
   "source": [
    "data.iloc[6:8, [0, 2, 6, 9, 11, 12]]"
   ]
  },
  {
   "cell_type": "code",
   "execution_count": 55,
   "id": "ba2a6531",
   "metadata": {},
   "outputs": [
    {
     "data": {
      "text/html": [
       "<div>\n",
       "<style scoped>\n",
       "    .dataframe tbody tr th:only-of-type {\n",
       "        vertical-align: middle;\n",
       "    }\n",
       "\n",
       "    .dataframe tbody tr th {\n",
       "        vertical-align: top;\n",
       "    }\n",
       "\n",
       "    .dataframe thead th {\n",
       "        text-align: right;\n",
       "    }\n",
       "</style>\n",
       "<table border=\"1\" class=\"dataframe\">\n",
       "  <thead>\n",
       "    <tr style=\"text-align: right;\">\n",
       "      <th></th>\n",
       "    </tr>\n",
       "  </thead>\n",
       "  <tbody>\n",
       "    <tr>\n",
       "      <th>7</th>\n",
       "    </tr>\n",
       "  </tbody>\n",
       "</table>\n",
       "</div>"
      ],
      "text/plain": [
       "Empty DataFrame\n",
       "Columns: []\n",
       "Index: [7]"
      ]
     },
     "execution_count": 55,
     "metadata": {},
     "output_type": "execute_result"
    }
   ],
   "source": [
    "data.iloc[7:8, :].dropna(axis=1, how='all')"
   ]
  },
  {
   "cell_type": "code",
   "execution_count": 56,
   "id": "a71eca41",
   "metadata": {},
   "outputs": [
    {
     "data": {
      "text/html": [
       "<div>\n",
       "<style scoped>\n",
       "    .dataframe tbody tr th:only-of-type {\n",
       "        vertical-align: middle;\n",
       "    }\n",
       "\n",
       "    .dataframe tbody tr th {\n",
       "        vertical-align: top;\n",
       "    }\n",
       "\n",
       "    .dataframe thead th {\n",
       "        text-align: right;\n",
       "    }\n",
       "</style>\n",
       "<table border=\"1\" class=\"dataframe\">\n",
       "  <thead>\n",
       "    <tr style=\"text-align: right;\">\n",
       "      <th></th>\n",
       "    </tr>\n",
       "  </thead>\n",
       "  <tbody>\n",
       "    <tr>\n",
       "      <th>6</th>\n",
       "    </tr>\n",
       "    <tr>\n",
       "      <th>7</th>\n",
       "    </tr>\n",
       "  </tbody>\n",
       "</table>\n",
       "</div>"
      ],
      "text/plain": [
       "Empty DataFrame\n",
       "Columns: []\n",
       "Index: [6, 7]"
      ]
     },
     "execution_count": 56,
     "metadata": {},
     "output_type": "execute_result"
    }
   ],
   "source": [
    "data.iloc[6:8, :].dropna(axis=1, how='any')"
   ]
  },
  {
   "cell_type": "code",
   "execution_count": 57,
   "id": "5870927d",
   "metadata": {},
   "outputs": [
    {
     "data": {
      "text/html": [
       "<div>\n",
       "<style scoped>\n",
       "    .dataframe tbody tr th:only-of-type {\n",
       "        vertical-align: middle;\n",
       "    }\n",
       "\n",
       "    .dataframe tbody tr th {\n",
       "        vertical-align: top;\n",
       "    }\n",
       "\n",
       "    .dataframe thead th {\n",
       "        text-align: right;\n",
       "    }\n",
       "</style>\n",
       "<table border=\"1\" class=\"dataframe\">\n",
       "  <thead>\n",
       "    <tr style=\"text-align: right;\">\n",
       "      <th></th>\n",
       "      <th>1</th>\n",
       "      <th>4</th>\n",
       "      <th>5</th>\n",
       "    </tr>\n",
       "  </thead>\n",
       "  <tbody>\n",
       "    <tr>\n",
       "      <th>6</th>\n",
       "      <td>Основание для отпуска: Договор №</td>\n",
       "      <td>86</td>\n",
       "      <td>от \"02\"апреля 2018 г.</td>\n",
       "    </tr>\n",
       "    <tr>\n",
       "      <th>7</th>\n",
       "      <td>NaN</td>\n",
       "      <td>NaN</td>\n",
       "      <td>NaN</td>\n",
       "    </tr>\n",
       "  </tbody>\n",
       "</table>\n",
       "</div>"
      ],
      "text/plain": [
       "                                   1    4                      5\n",
       "6  Основание для отпуска: Договор №    86  от \"02\"апреля 2018 г.\n",
       "7                                NaN  NaN                    NaN"
      ]
     },
     "execution_count": 57,
     "metadata": {},
     "output_type": "execute_result"
    }
   ],
   "source": [
    "data.iloc[6:8, :].dropna(axis=1, how='all')"
   ]
  },
  {
   "cell_type": "markdown",
   "id": "5c570396",
   "metadata": {},
   "source": [
    "# 13.8 Ответ 1: 2\n",
    "#         Ответ 2: 25\n",
    "#         Ответ 3: 2\n",
    "#         Ответ 4: 3\n",
    "#         Ответ 5: 1, 2"
   ]
  },
  {
   "cell_type": "code",
   "execution_count": null,
   "id": "51374843",
   "metadata": {},
   "outputs": [],
   "source": []
  },
  {
   "cell_type": "code",
   "execution_count": null,
   "id": "9891548e",
   "metadata": {},
   "outputs": [],
   "source": []
  },
  {
   "cell_type": "markdown",
   "id": "8b468c41",
   "metadata": {},
   "source": [
    "# 13.9 Ответ 1: 1\n",
    "#         Ответ 2: 1\n",
    "#         Ответ 3: 2"
   ]
  },
  {
   "cell_type": "code",
   "execution_count": null,
   "id": "35badbd5",
   "metadata": {},
   "outputs": [],
   "source": []
  },
  {
   "cell_type": "markdown",
   "id": "4ac0c380",
   "metadata": {},
   "source": [
    "# 13.10 Ответ 1: 5"
   ]
  },
  {
   "cell_type": "code",
   "execution_count": 59,
   "id": "e782cac0",
   "metadata": {},
   "outputs": [],
   "source": [
    "import xml.etree.ElementTree as ET"
   ]
  },
  {
   "cell_type": "code",
   "execution_count": 60,
   "id": "714ec601",
   "metadata": {},
   "outputs": [],
   "source": [
    "tree = ET.parse('menu.xml')    \n",
    "root = tree.getroot()"
   ]
  },
  {
   "cell_type": "code",
   "execution_count": 62,
   "id": "2d50b8a6",
   "metadata": {},
   "outputs": [
    {
     "data": {
      "text/plain": [
       "<Element 'weight' at 0x0000021A7C40F8B0>"
      ]
     },
     "execution_count": 62,
     "metadata": {},
     "output_type": "execute_result"
    }
   ],
   "source": [
    "root[0][1]"
   ]
  },
  {
   "cell_type": "code",
   "execution_count": 63,
   "id": "3760244f",
   "metadata": {},
   "outputs": [
    {
     "data": {
      "text/plain": [
       "3"
      ]
     },
     "execution_count": 63,
     "metadata": {},
     "output_type": "execute_result"
    }
   ],
   "source": [
    "len(root[0])"
   ]
  },
  {
   "cell_type": "markdown",
   "id": "c29fe578",
   "metadata": {},
   "source": [
    "# 13.11 Ответ 1: 2\n",
    "#           Ответ 2: weight\n",
    "#           Ответ 3: 3"
   ]
  },
  {
   "cell_type": "code",
   "execution_count": null,
   "id": "35a26bb1",
   "metadata": {},
   "outputs": [],
   "source": []
  },
  {
   "cell_type": "markdown",
   "id": "ede62319",
   "metadata": {},
   "source": [
    "# 13.12 Ответ 1: 2\n",
    "#           Ответ 2: 1, 2"
   ]
  },
  {
   "cell_type": "markdown",
   "id": "80722651",
   "metadata": {},
   "source": [
    "# 13.13 Ответ 1: 1, 3, 4\n",
    "#           Ответ 2: 2\n",
    "#           Ответ 3: 1"
   ]
  },
  {
   "cell_type": "code",
   "execution_count": null,
   "id": "b6225635",
   "metadata": {},
   "outputs": [],
   "source": []
  }
 ],
 "metadata": {
  "kernelspec": {
   "display_name": "Python 3",
   "language": "python",
   "name": "python3"
  },
  "language_info": {
   "codemirror_mode": {
    "name": "ipython",
    "version": 3
   },
   "file_extension": ".py",
   "mimetype": "text/x-python",
   "name": "python",
   "nbconvert_exporter": "python",
   "pygments_lexer": "ipython3",
   "version": "3.8.8"
  }
 },
 "nbformat": 4,
 "nbformat_minor": 5
}
