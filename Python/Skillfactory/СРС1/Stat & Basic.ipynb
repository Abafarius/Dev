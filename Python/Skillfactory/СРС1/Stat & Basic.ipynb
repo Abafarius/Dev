{
 "cells": [
  {
   "cell_type": "markdown",
   "id": "c03815ce",
   "metadata": {},
   "source": [
    "# 1.2. Описательные статистики"
   ]
  },
  {
   "cell_type": "code",
   "execution_count": null,
   "id": "8c0265d8",
   "metadata": {},
   "outputs": [],
   "source": [
    "#1.4. Меры центра\n",
    "# Задание 1.4.1\n",
    "answers_2_1 = ['Среднее арифметическое, Мода, Медиана']\n"
   ]
  },
  {
   "cell_type": "code",
   "execution_count": null,
   "id": "f2069fa5",
   "metadata": {},
   "outputs": [],
   "source": [
    "# Задание 1.4.2\n",
    "#Какая мера необходима для нахождения самого часто встречающегося значения?\n",
    "answers_2_2 = ['Мода']\n",
    "#Для каких из перечисленных случаев медиана подходит как мера центральной тенденции?\n",
    "answers_2_3 = ['Необходимо разделить числовой ряд пополам']\n",
    "#Среднее арифметическое пяти чисел равно 8.2 . Четыре из этих чисел — 6,10,7,12. Найдите пятое число.\n",
    "answers_2_4 = [6]\n"
   ]
  },
  {
   "cell_type": "code",
   "execution_count": null,
   "id": "f30e03d3",
   "metadata": {},
   "outputs": [],
   "source": [
    "#Задание 1.4.3\n",
    "answers_2_5 = ['Мода на 1 балл больше средней оценки.']\n",
    "answers_2_6 = ['Этот набор данных является генеральной совокупностью.']"
   ]
  },
  {
   "cell_type": "code",
   "execution_count": 2,
   "id": "78a08c87",
   "metadata": {},
   "outputs": [],
   "source": [
    "#1.5. Тренировка\n",
    "#Задание 1.5.1\n",
    "import pandas as pd\n",
    "\n",
    "df = pd.DataFrame({\n",
    "    'men': [80.2, 80.8, 57.5, 98, 50.5, 73.8, 77.4, 59.7, 77.9, 52.6],\n",
    "    'women': [57.9, 57.3, 72.8, 48.2, 59.5, 48.3, 61.2, 53.9, 53.9, 70.7]\n",
    "})"
   ]
  },
  {
   "cell_type": "code",
   "execution_count": 3,
   "id": "235db858",
   "metadata": {},
   "outputs": [
    {
     "data": {
      "text/plain": [
       "70.84"
      ]
     },
     "execution_count": 3,
     "metadata": {},
     "output_type": "execute_result"
    }
   ],
   "source": [
    "df['men'].mean()"
   ]
  },
  {
   "cell_type": "code",
   "execution_count": 4,
   "id": "e525ef9f",
   "metadata": {},
   "outputs": [
    {
     "data": {
      "text/plain": [
       "58.370000000000005"
      ]
     },
     "execution_count": 4,
     "metadata": {},
     "output_type": "execute_result"
    }
   ],
   "source": [
    "df['women'].mean()"
   ]
  },
  {
   "cell_type": "code",
   "execution_count": null,
   "id": "44940818",
   "metadata": {},
   "outputs": [],
   "source": [
    "answers = 12.5"
   ]
  },
  {
   "cell_type": "code",
   "execution_count": 4,
   "id": "8e71b979",
   "metadata": {},
   "outputs": [],
   "source": [
    "#Задание 1.5.2\n",
    "a = pd.Series([2,7,4,3,6,4,1,2])\n",
    "b = pd.Series([5,2,4,8,1,6,7])"
   ]
  },
  {
   "cell_type": "code",
   "execution_count": 9,
   "id": "8f2da774",
   "metadata": {},
   "outputs": [
    {
     "data": {
      "text/plain": [
       "3.5"
      ]
     },
     "execution_count": 9,
     "metadata": {},
     "output_type": "execute_result"
    }
   ],
   "source": [
    "a.median()\n"
   ]
  },
  {
   "cell_type": "code",
   "execution_count": 8,
   "id": "4dab974f",
   "metadata": {},
   "outputs": [
    {
     "data": {
      "text/plain": [
       "5.0"
      ]
     },
     "execution_count": 8,
     "metadata": {},
     "output_type": "execute_result"
    }
   ],
   "source": [
    "b.median()"
   ]
  },
  {
   "cell_type": "code",
   "execution_count": 10,
   "id": "57d0454a",
   "metadata": {},
   "outputs": [
    {
     "data": {
      "text/plain": [
       "True"
      ]
     },
     "execution_count": 10,
     "metadata": {},
     "output_type": "execute_result"
    }
   ],
   "source": [
    "a.median() < b.median()"
   ]
  },
  {
   "cell_type": "code",
   "execution_count": null,
   "id": "235785c7",
   "metadata": {},
   "outputs": [],
   "source": [
    "#Задание 1.5.3"
   ]
  },
  {
   "cell_type": "code",
   "execution_count": 15,
   "id": "7831ca7e",
   "metadata": {},
   "outputs": [
    {
     "data": {
      "text/plain": [
       "75.6"
      ]
     },
     "execution_count": 15,
     "metadata": {},
     "output_type": "execute_result"
    }
   ],
   "source": [
    "df['men'].median()"
   ]
  },
  {
   "cell_type": "code",
   "execution_count": 3,
   "id": "366f35c4",
   "metadata": {},
   "outputs": [
    {
     "data": {
      "text/plain": [
       "57.599999999999994"
      ]
     },
     "execution_count": 3,
     "metadata": {},
     "output_type": "execute_result"
    }
   ],
   "source": [
    "df['women'].median()"
   ]
  },
  {
   "cell_type": "code",
   "execution_count": 5,
   "id": "03096a38",
   "metadata": {},
   "outputs": [],
   "source": [
    "patients = df.median()"
   ]
  },
  {
   "cell_type": "code",
   "execution_count": 6,
   "id": "ba6b7af4",
   "metadata": {},
   "outputs": [
    {
     "data": {
      "text/plain": [
       "men      75.6\n",
       "women    57.6\n",
       "dtype: float64"
      ]
     },
     "execution_count": 6,
     "metadata": {},
     "output_type": "execute_result"
    }
   ],
   "source": [
    "patients"
   ]
  },
  {
   "cell_type": "code",
   "execution_count": 8,
   "id": "d1330af7",
   "metadata": {},
   "outputs": [],
   "source": [
    "patients = pd.DataFrame({\n",
    "    'patients': [80.2, 80.8, 57.5, 98, 50.5, 73.8, 77.4, 59.7, 77.9, 52.6,\n",
    "    57.9, 57.3, 72.8, 48.2, 59.5, 48.3, 61.2, 53.9, 53.9, 70.7]\n",
    "})"
   ]
  },
  {
   "cell_type": "code",
   "execution_count": 9,
   "id": "cb3727a8",
   "metadata": {},
   "outputs": [
    {
     "data": {
      "text/plain": [
       "patients    59.6\n",
       "dtype: float64"
      ]
     },
     "execution_count": 9,
     "metadata": {},
     "output_type": "execute_result"
    }
   ],
   "source": [
    "patients.median()"
   ]
  },
  {
   "cell_type": "code",
   "execution_count": null,
   "id": "e91129c3",
   "metadata": {},
   "outputs": [],
   "source": [
    "#1.6. Квартили\n",
    "#Задание 1.6.1\n",
    "1. false\n",
    "2. faslse\n",
    "3. true"
   ]
  },
  {
   "cell_type": "code",
   "execution_count": 19,
   "id": "6a196cda",
   "metadata": {},
   "outputs": [],
   "source": [
    "#1.7. Тренировка\n",
    "#Задание 1.7.1\n",
    "d1 = pd.DataFrame({\n",
    "    'men': [80, 80.8, 57.5, 98, 50.5, 73.8, 77.4, 59.7, 77.9, 52.6],\n",
    "    'women': [57.9, 57.3, 72.8, 48.2, 59.5, 48.3, 61.2, 53.9, 53.9, 70.7]\n",
    "})"
   ]
  },
  {
   "cell_type": "code",
   "execution_count": 16,
   "id": "7b2d95a8",
   "metadata": {},
   "outputs": [
    {
     "data": {
      "text/plain": [
       "75.6"
      ]
     },
     "execution_count": 16,
     "metadata": {},
     "output_type": "execute_result"
    }
   ],
   "source": [
    "df['men'].quantile(q=0.5,interpolation='midpoint')"
   ]
  },
  {
   "cell_type": "code",
   "execution_count": 17,
   "id": "9de219e3",
   "metadata": {},
   "outputs": [
    {
     "data": {
      "text/plain": [
       "75.6"
      ]
     },
     "execution_count": 17,
     "metadata": {},
     "output_type": "execute_result"
    }
   ],
   "source": [
    "round(75.6, 1)"
   ]
  },
  {
   "cell_type": "code",
   "execution_count": 22,
   "id": "c251cee0",
   "metadata": {},
   "outputs": [],
   "source": [
    "def status(x) : \n",
    "    return pd.Series([x.quantile(.25),x.median(),\n",
    "                      x.quantile(.75)],index=[\"25% квантиль\",'медиана',\"75% квантиль\",])"
   ]
  },
  {
   "cell_type": "code",
   "execution_count": 23,
   "id": "f73dde3a",
   "metadata": {},
   "outputs": [
    {
     "data": {
      "text/html": [
       "<div>\n",
       "<style scoped>\n",
       "    .dataframe tbody tr th:only-of-type {\n",
       "        vertical-align: middle;\n",
       "    }\n",
       "\n",
       "    .dataframe tbody tr th {\n",
       "        vertical-align: top;\n",
       "    }\n",
       "\n",
       "    .dataframe thead th {\n",
       "        text-align: right;\n",
       "    }\n",
       "</style>\n",
       "<table border=\"1\" class=\"dataframe\">\n",
       "  <thead>\n",
       "    <tr style=\"text-align: right;\">\n",
       "      <th></th>\n",
       "      <th>0</th>\n",
       "    </tr>\n",
       "  </thead>\n",
       "  <tbody>\n",
       "    <tr>\n",
       "      <th>25% квантиль</th>\n",
       "      <td>men      58.05\n",
       "women    53.90\n",
       "Name: 0.25, dtyp...</td>\n",
       "    </tr>\n",
       "    <tr>\n",
       "      <th>медиана</th>\n",
       "      <td>men      75.6\n",
       "women    57.6\n",
       "dtype: float64</td>\n",
       "    </tr>\n",
       "    <tr>\n",
       "      <th>75% квантиль</th>\n",
       "      <td>men      79.475\n",
       "women    60.775\n",
       "Name: 0.75, dt...</td>\n",
       "    </tr>\n",
       "  </tbody>\n",
       "</table>\n",
       "</div>"
      ],
      "text/plain": [
       "                                                              0\n",
       "25% квантиль  men      58.05\n",
       "women    53.90\n",
       "Name: 0.25, dtyp...\n",
       "медиана              men      75.6\n",
       "women    57.6\n",
       "dtype: float64\n",
       "75% квантиль  men      79.475\n",
       "women    60.775\n",
       "Name: 0.75, dt..."
      ]
     },
     "execution_count": 23,
     "metadata": {},
     "output_type": "execute_result"
    }
   ],
   "source": [
    "df = pd.DataFrame(status(d1))\n",
    "df"
   ]
  },
  {
   "cell_type": "code",
   "execution_count": 21,
   "id": "4eb4ddd2",
   "metadata": {},
   "outputs": [
    {
     "data": {
      "text/plain": [
       "58.05"
      ]
     },
     "execution_count": 21,
     "metadata": {},
     "output_type": "execute_result"
    }
   ],
   "source": [
    "d1['men'].quantile(.25)"
   ]
  },
  {
   "cell_type": "code",
   "execution_count": null,
   "id": "a659cd60",
   "metadata": {},
   "outputs": [],
   "source": [
    "#1.8. Меры разброса\n",
    "#Задание 1.8.1\n",
    "размах, межквартильный размах, стандартное отклонение\n"
   ]
  },
  {
   "cell_type": "code",
   "execution_count": null,
   "id": "4b51757b",
   "metadata": {},
   "outputs": [],
   "source": [
    "#1.9. Тренировка\n"
   ]
  },
  {
   "cell_type": "code",
   "execution_count": 24,
   "id": "325b6c06",
   "metadata": {},
   "outputs": [],
   "source": [
    "#1.11. Графики\n",
    "import pandas as pd\n",
    "df = pd.DataFrame({\n",
    "    'city_a': [240, 440, 455, 475, 475, 490, 490, 500, 500, 500, 530, 550, 578, 580, 620, 687, 694, 703, 859],\n",
    "    'city_b': [500, 564, 590, 600, 600, 600, 645, 650, 660, 667, 689, 692, 700, 700, 705, 735, 760, 764, 805]\n",
    "})"
   ]
  },
  {
   "cell_type": "code",
   "execution_count": 25,
   "id": "05f57c1c",
   "metadata": {},
   "outputs": [
    {
     "data": {
      "image/png": "[encoded data removed]",
      "text/plain": [
       "<Figure size 432x288 with 1 Axes>"
      ]
     },
     "metadata": {
      "needs_background": "light"
     },
     "output_type": "display_data"
    }
   ],
   "source": [
    "boxplot = df.boxplot(column=['city_a', 'city_b'])"
   ]
  },
  {
   "cell_type": "code",
   "execution_count": null,
   "id": "d3f142bc",
   "metadata": {},
   "outputs": [],
   "source": [
    "#1.12. Описание и интерпретация графиков"
   ]
  }
 ],
 "metadata": {
  "kernelspec": {
   "display_name": "Python 3",
   "language": "python",
   "name": "python3"
  },
  "language_info": {
   "codemirror_mode": {
    "name": "ipython",
    "version": 3
   },
   "file_extension": ".py",
   "mimetype": "text/x-python",
   "name": "python",
   "nbconvert_exporter": "python",
   "pygments_lexer": "ipython3",
   "version": "3.8.8"
  }
 },
 "nbformat": 4,
 "nbformat_minor": 5
}
