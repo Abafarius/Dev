{
 "cells": [
  {
   "cell_type": "markdown",
   "id": "378ac1c6",
   "metadata": {},
   "source": [
    "# Задание 5.1.1 -  Ответ:5; Ирис разноцветный (Iris versicolor)"
   ]
  },
  {
   "cell_type": "markdown",
   "id": "b38c885b",
   "metadata": {},
   "source": [
    "#  Задание 5.2.1 - Ответ: 3"
   ]
  },
  {
   "cell_type": "markdown",
   "id": "b6756832",
   "metadata": {},
   "source": [
    "#  Задание 5.2.2 - Ответ: второй ответ, то есть максимум 3"
   ]
  },
  {
   "cell_type": "markdown",
   "id": "6aa5e963",
   "metadata": {},
   "source": [
    "# Задание 5.4.1 - Ответ: количество 3, то есть 1й, 4й и 5й"
   ]
  },
  {
   "cell_type": "markdown",
   "id": "82a27ae4",
   "metadata": {},
   "source": [
    "# Задание 5.4.2  - Ответ: 3; 1; 2; 1; 1"
   ]
  },
  {
   "cell_type": "markdown",
   "id": "c29234ca",
   "metadata": {},
   "source": [
    "# Задание 5.5.1 - Ответ: 4, 5; 4"
   ]
  },
  {
   "cell_type": "code",
   "execution_count": null,
   "id": "67b7d65d",
   "metadata": {},
   "outputs": [],
   "source": []
  },
  {
   "cell_type": "code",
   "execution_count": null,
   "id": "40215cc7",
   "metadata": {},
   "outputs": [],
   "source": []
  }
 ],
 "metadata": {
  "kernelspec": {
   "display_name": "Python 3",
   "language": "python",
   "name": "python3"
  },
  "language_info": {
   "codemirror_mode": {
    "name": "ipython",
    "version": 3
   },
   "file_extension": ".py",
   "mimetype": "text/x-python",
   "name": "python",
   "nbconvert_exporter": "python",
   "pygments_lexer": "ipython3",
   "version": "3.8.8"
  }
 },
 "nbformat": 4,
 "nbformat_minor": 5
}
