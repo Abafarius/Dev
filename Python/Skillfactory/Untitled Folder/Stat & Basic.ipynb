{
 "cells": [
  {
   "cell_type": "markdown",
   "id": "c03815ce",
   "metadata": {},
   "source": [
    "# 1.2. Описательные статистики"
   ]
  },
  {
   "cell_type": "code",
   "execution_count": null,
   "id": "8c0265d8",
   "metadata": {},
   "outputs": [],
   "source": [
    "#1.4. Меры центра\n",
    "# Задание 1.4.1\n",
    "answers_2_1 = ['Среднее арифметическое, Мода, Медиана']\n"
   ]
  },
  {
   "cell_type": "code",
   "execution_count": null,
   "id": "f2069fa5",
   "metadata": {},
   "outputs": [],
   "source": [
    "# Задание 1.4.2\n",
    "#Какая мера необходима для нахождения самого часто встречающегося значения?\n",
    "answers_2_2 = ['Мода']\n",
    "#Для каких из перечисленных случаев медиана подходит как мера центральной тенденции?\n",
    "answers_2_3 = ['Необходимо разделить числовой ряд пополам']\n",
    "#Среднее арифметическое пяти чисел равно 8.2 . Четыре из этих чисел — 6,10,7,12. Найдите пятое число.\n",
    "answers_2_4 = [6]\n"
   ]
  },
  {
   "cell_type": "code",
   "execution_count": null,
   "id": "f30e03d3",
   "metadata": {},
   "outputs": [],
   "source": [
    "#Задание 1.4.3\n",
    "answers_2_5 = ['Мода на 1 балл больше средней оценки.']\n",
    "answers_2_6 = ['Этот набор данных является генеральной совокупностью.']"
   ]
  },
  {
   "cell_type": "code",
   "execution_count": 2,
   "id": "78a08c87",
   "metadata": {},
   "outputs": [],
   "source": [
    "#1.5. Тренировка\n",
    "#Задание 1.5.1\n",
    "import pandas as pd\n",
    "\n",
    "df = pd.DataFrame({\n",
    "    'men': [80.2, 80.8, 57.5, 98, 50.5, 73.8, 77.4, 59.7, 77.9, 52.6],\n",
    "    'women': [57.9, 57.3, 72.8, 48.2, 59.5, 48.3, 61.2, 53.9, 53.9, 70.7]\n",
    "})"
   ]
  },
  {
   "cell_type": "code",
   "execution_count": 3,
   "id": "235db858",
   "metadata": {},
   "outputs": [
    {
     "data": {
      "text/plain": [
       "70.84"
      ]
     },
     "execution_count": 3,
     "metadata": {},
     "output_type": "execute_result"
    }
   ],
   "source": [
    "df['men'].mean()"
   ]
  },
  {
   "cell_type": "code",
   "execution_count": 4,
   "id": "e525ef9f",
   "metadata": {},
   "outputs": [
    {
     "data": {
      "text/plain": [
       "58.370000000000005"
      ]
     },
     "execution_count": 4,
     "metadata": {},
     "output_type": "execute_result"
    }
   ],
   "source": [
    "df['women'].mean()"
   ]
  },
  {
   "cell_type": "code",
   "execution_count": null,
   "id": "44940818",
   "metadata": {},
   "outputs": [],
   "source": [
    "answers = 12.5"
   ]
  },
  {
   "cell_type": "code",
   "execution_count": 4,
   "id": "8e71b979",
   "metadata": {},
   "outputs": [],
   "source": [
    "#Задание 1.5.2\n",
    "a = pd.Series([2,7,4,3,6,4,1,2])\n",
    "b = pd.Series([5,2,4,8,1,6,7])"
   ]
  },
  {
   "cell_type": "code",
   "execution_count": 9,
   "id": "8f2da774",
   "metadata": {},
   "outputs": [
    {
     "data": {
      "text/plain": [
       "3.5"
      ]
     },
     "execution_count": 9,
     "metadata": {},
     "output_type": "execute_result"
    }
   ],
   "source": [
    "a.median()\n"
   ]
  },
  {
   "cell_type": "code",
   "execution_count": 8,
   "id": "4dab974f",
   "metadata": {},
   "outputs": [
    {
     "data": {
      "text/plain": [
       "5.0"
      ]
     },
     "execution_count": 8,
     "metadata": {},
     "output_type": "execute_result"
    }
   ],
   "source": [
    "b.median()"
   ]
  },
  {
   "cell_type": "code",
   "execution_count": 10,
   "id": "57d0454a",
   "metadata": {},
   "outputs": [
    {
     "data": {
      "text/plain": [
       "True"
      ]
     },
     "execution_count": 10,
     "metadata": {},
     "output_type": "execute_result"
    }
   ],
   "source": [
    "a.median() < b.median()"
   ]
  },
  {
   "cell_type": "code",
   "execution_count": null,
   "id": "235785c7",
   "metadata": {},
   "outputs": [],
   "source": [
    "#Задание 1.5.3"
   ]
  },
  {
   "cell_type": "code",
   "execution_count": 15,
   "id": "7831ca7e",
   "metadata": {},
   "outputs": [
    {
     "data": {
      "text/plain": [
       "75.6"
      ]
     },
     "execution_count": 15,
     "metadata": {},
     "output_type": "execute_result"
    }
   ],
   "source": [
    "df['men'].median()"
   ]
  },
  {
   "cell_type": "code",
   "execution_count": 3,
   "id": "366f35c4",
   "metadata": {},
   "outputs": [
    {
     "data": {
      "text/plain": [
       "57.599999999999994"
      ]
     },
     "execution_count": 3,
     "metadata": {},
     "output_type": "execute_result"
    }
   ],
   "source": [
    "df['women'].median()"
   ]
  },
  {
   "cell_type": "code",
   "execution_count": 5,
   "id": "62dcc6db",
   "metadata": {},
   "outputs": [],
   "source": [
    "patients = df.median()"
   ]
  },
  {
   "cell_type": "code",
   "execution_count": 6,
   "id": "d29c9d8f",
   "metadata": {},
   "outputs": [
    {
     "data": {
      "text/plain": [
       "men      75.6\n",
       "women    57.6\n",
       "dtype: float64"
      ]
     },
     "execution_count": 6,
     "metadata": {},
     "output_type": "execute_result"
    }
   ],
   "source": [
    "patients"
   ]
  },
  {
   "cell_type": "code",
   "execution_count": 8,
   "id": "c0fef159",
   "metadata": {},
   "outputs": [],
   "source": [
    "patients = pd.DataFrame({\n",
    "    'patients': [80.2, 80.8, 57.5, 98, 50.5, 73.8, 77.4, 59.7, 77.9, 52.6,\n",
    "    57.9, 57.3, 72.8, 48.2, 59.5, 48.3, 61.2, 53.9, 53.9, 70.7]\n",
    "})"
   ]
  },
  {
   "cell_type": "code",
   "execution_count": 9,
   "id": "1384e0c2",
   "metadata": {},
   "outputs": [
    {
     "data": {
      "text/plain": [
       "patients    59.6\n",
       "dtype: float64"
      ]
     },
     "execution_count": 9,
     "metadata": {},
     "output_type": "execute_result"
    }
   ],
   "source": [
    "patients.median()"
   ]
  },
  {
   "cell_type": "code",
   "execution_count": null,
   "id": "615296fe",
   "metadata": {},
   "outputs": [],
   "source": []
  }
 ],
 "metadata": {
  "kernelspec": {
   "display_name": "Python 3",
   "language": "python",
   "name": "python3"
  },
  "language_info": {
   "codemirror_mode": {
    "name": "ipython",
    "version": 3
   },
   "file_extension": ".py",
   "mimetype": "text/x-python",
   "name": "python",
   "nbconvert_exporter": "python",
   "pygments_lexer": "ipython3",
   "version": "3.8.8"
  }
 },
 "nbformat": 4,
 "nbformat_minor": 5
}
