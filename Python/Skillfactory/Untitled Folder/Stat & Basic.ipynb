{
 "cells": [
  {
   "cell_type": "markdown",
   "id": "c03815ce",
   "metadata": {},
   "source": [
    "# 1.2. Описательные статистики"
   ]
  },
  {
   "cell_type": "code",
   "execution_count": null,
   "id": "8c0265d8",
   "metadata": {},
   "outputs": [],
   "source": [
    "#1.4. Меры центра\n",
    "# Задание 1.4.1\n",
    "answers_2_1 = ['Среднее арифметическое, Мода, Медиана']\n"
   ]
  },
  {
   "cell_type": "code",
   "execution_count": null,
   "id": "f2069fa5",
   "metadata": {},
   "outputs": [],
   "source": [
    "# Задание 1.4.2\n",
    "#Какая мера необходима для нахождения самого часто встречающегося значения?\n",
    "answers_2_2 = ['Мода']\n",
    "#Для каких из перечисленных случаев медиана подходит как мера центральной тенденции?\n",
    "answers_2_3 = ['Необходимо разделить числовой ряд пополам']\n",
    "#Среднее арифметическое пяти чисел равно 8.2 . Четыре из этих чисел — 6,10,7,12. Найдите пятое число.\n",
    "answers_2_4 = [6]\n"
   ]
  },
  {
   "cell_type": "code",
   "execution_count": null,
   "id": "f30e03d3",
   "metadata": {},
   "outputs": [],
   "source": [
    "#Задание 1.4.3\n",
    "answers_2_5 = ['Мода на 1 балл меньше средней оценки.']\n",
    "answers_2_6 = ['Этот набор данных является генеральной совокупностью.']"
   ]
  },
  {
   "cell_type": "code",
   "execution_count": 1,
   "id": "78a08c87",
   "metadata": {},
   "outputs": [],
   "source": [
    "#1.5. Тренировка\n",
    "#Задание 1.5.1\n",
    "import pandas as pd\n",
    "\n",
    "df = pd.DataFrame({\n",
    "    'men': [80.2, 80.8, 57.5, 98, 50.5, 73.8, 77.4, 59.7, 77.9, 52.6],\n",
    "    'women': [57.9, 57.3, 72.8, 48.2, 59.5, 48.3, 61.2, 53.9, 53.9, 70.7]\n",
    "})"
   ]
  },
  {
   "cell_type": "code",
   "execution_count": 3,
   "id": "235db858",
   "metadata": {},
   "outputs": [
    {
     "data": {
      "text/plain": [
       "70.84"
      ]
     },
     "execution_count": 3,
     "metadata": {},
     "output_type": "execute_result"
    }
   ],
   "source": [
    "df['men'].mean()"
   ]
  },
  {
   "cell_type": "code",
   "execution_count": 4,
   "id": "e525ef9f",
   "metadata": {},
   "outputs": [
    {
     "data": {
      "text/plain": [
       "58.370000000000005"
      ]
     },
     "execution_count": 4,
     "metadata": {},
     "output_type": "execute_result"
    }
   ],
   "source": [
    "df['women'].mean()"
   ]
  },
  {
   "cell_type": "code",
   "execution_count": null,
   "id": "44940818",
   "metadata": {},
   "outputs": [],
   "source": [
    "answers = 12.5"
   ]
  }
 ],
 "metadata": {
  "kernelspec": {
   "display_name": "Python 3",
   "language": "python",
   "name": "python3"
  },
  "language_info": {
   "codemirror_mode": {
    "name": "ipython",
    "version": 3
   },
   "file_extension": ".py",
   "mimetype": "text/x-python",
   "name": "python",
   "nbconvert_exporter": "python",
   "pygments_lexer": "ipython3",
   "version": "3.8.8"
  }
 },
 "nbformat": 4,
 "nbformat_minor": 5
}
